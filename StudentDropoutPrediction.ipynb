{
  "cells": [
    {
      "cell_type": "markdown",
      "source": [
        "Import dữ liệu"
      ],
      "metadata": {
        "nteract": {
          "transient": {
            "deleting": false
          }
        }
      }
    },
    {
      "cell_type": "code",
      "source": [
        "import pandas as pd \n",
        "import matplotlib.pyplot as plt \n",
        "from sklearn.model_selection import train_test_split\n",
        "from sklearn.ensemble import RandomForestClassifier\n",
        "from sklearn.preprocessing import LabelEncoder\n",
        "from sklearn.metrics import classification_report\n",
        "from sklearn.linear_model import LogisticRegression\n",
        "from sklearn.neighbors import KNeighborsClassifier\n",
        "from sklearn.metrics import accuracy_score, confusion_matrix, ConfusionMatrixDisplay"
      ],
      "outputs": [],
      "execution_count": 4,
      "metadata": {
        "gather": {
          "logged": 1746332751014
        }
      }
    },
    {
      "cell_type": "markdown",
      "source": [
        "Đọc dataset"
      ],
      "metadata": {
        "nteract": {
          "transient": {
            "deleting": false
          }
        }
      }
    },
    {
      "cell_type": "code",
      "source": [
        "from azureml.core import Workspace, Dataset\n",
        "\n",
        "subscription_id = 'f0d11c61-044d-4f39-972d-1b731d4872f2'\n",
        "resource_group = 'TenPM_Project'\n",
        "workspace_name = 'tenpm-ML-workspace'\n",
        "\n",
        "workspace = Workspace(subscription_id, resource_group, workspace_name)\n",
        "\n",
        "dataset = Dataset.get_by_name(workspace, name='Student_Dropout_Data')\n",
        "data = dataset.to_pandas_dataframe()"
      ],
      "outputs": [
        {
          "output_type": "stream",
          "name": "stdout",
          "text": "{'infer_column_types': 'False', 'activity': 'to_pandas_dataframe'}\n{'infer_column_types': 'False', 'activity': 'to_pandas_dataframe', 'activityApp': 'TabularDataset'}\n"
        }
      ],
      "execution_count": 6,
      "metadata": {
        "gather": {
          "logged": 1746332906951
        }
      }
    },
    {
      "cell_type": "code",
      "source": [
        "data = data.iloc[:-14]\n",
        "data"
      ],
      "outputs": [
        {
          "output_type": "execute_result",
          "execution_count": 7,
          "data": {
            "text/plain": "      STUDENT IDENTIFIER  STDNT_AGE STDNT_GENDER STDNT_BACKGROUND  \\\n0              7808615.0       18.0            F            BGD 1   \n1              7830063.0       19.0            F            BGD 1   \n2              7847538.0       18.0            M            BGD 1   \n3              8006429.0       18.0            M            BGD 1   \n4              7962680.0       18.0            F            BGD 1   \n...                  ...        ...          ...              ...   \n3395           7948112.0       18.0            F            BGD 4   \n3396           8023055.0       18.0            F            BGD 1   \n3397           7926915.0       18.0            F            BGD 4   \n3398           7877332.0       18.0            F            BGD 3   \n3399           7928405.0       18.0            M            BGD 2   \n\n     IN_STATE_FLAG INTERNATIONAL_STS               STDNT_MAJOR  \\\n0                Y                 N                Undeclared   \n1                N                 N                Undeclared   \n2                Y                 N               Mathematics   \n3                Y                 N                Undeclared   \n4                Y                 N                       Art   \n...            ...               ...                       ...   \n3395             N                 N         Music Performance   \n3396             Y                 N                   Biology   \n3397             Y                 N                   Biology   \n3398             Y                 N  Joint Enrollment - Accel   \n3399             Y                 N                       Art   \n\n      STDNT_TEST_ENTRANCE_COMB FIRST_TERM CORE_COURSE_NAME_1_F  ...  \\\n0                       1150.0     200708                 ANTH  ...   \n1                       1190.0     200808                 ANTH  ...   \n2                       1030.0     201008                 ANTH  ...   \n3                       1220.0     200708                 ANTH  ...   \n4                       1190.0     200808                 ANTH  ...   \n...                        ...        ...                  ...  ...   \n3395                     790.0     200808                 COMM  ...   \n3396                     950.0     200708                 POLS  ...   \n3397                    1030.0     200808                 ENGL  ...   \n3398                     990.0     201008                 PSYC  ...   \n3399                     870.0     201008                 HIST  ...   \n\n     FATHER_HI_EDU_DESC MOTHER_HI_EDU_DESC DEGREE_GROUP_CD DEGREE_GROUP_DESC  \\\n0        No Information     No Information               B         Bachelors   \n1        College/Beyond     College/Beyond               B         Bachelors   \n2           High School      Other/Unknown               B         Bachelors   \n3        College/Beyond     College/Beyond               B         Bachelors   \n4        College/Beyond        High School               B         Bachelors   \n...                 ...                ...             ...               ...   \n3395     No Information     No Information               B         Bachelors   \n3396     No Information     No Information               B         Bachelors   \n3397      Other/Unknown        High School               B         Bachelors   \n3398        High School     College/Beyond               B         Bachelors   \n3399     College/Beyond     College/Beyond               B         Bachelors   \n\n     GROSS_FIN_NEED COST_OF_ATTEND EST_FAM_CONTRIBUTION UNMET_NEED  \\\n0               0.0            0.0                  0.0        0.0   \n1          570000.0      1355760.0             785760.0   459300.0   \n2               0.0            0.0                  0.0        0.0   \n3               0.0            0.0                  0.0        0.0   \n4          835920.0      1355760.0             519840.0   278340.0   \n...             ...            ...                  ...        ...   \n3395            0.0            0.0                  0.0        0.0   \n3396            0.0            0.0                  0.0        0.0   \n3397            0.0       945840.0            1288980.0        0.0   \n3398            0.0       269100.0                  0.0  -231720.0   \n3399            0.0            0.0                  0.0        0.0   \n\n     FIRST_TERM_Hr  SECOND_TERM_Hr  \n0         1.000000        1.000000  \n1         1.000000        1.000000  \n2         1.000000        1.000000  \n3         1.000000        1.000000  \n4         1.000000        1.000000  \n...            ...             ...  \n3395      1.000000        0.812500  \n3396      0.692308        0.000000  \n3397      0.428571        0.000000  \n3398      0.750000        0.000000  \n3399      0.750000        0.461538  \n\n[3400 rows x 32 columns]",
            "text/html": "<div>\n<style scoped>\n    .dataframe tbody tr th:only-of-type {\n        vertical-align: middle;\n    }\n\n    .dataframe tbody tr th {\n        vertical-align: top;\n    }\n\n    .dataframe thead th {\n        text-align: right;\n    }\n</style>\n<table border=\"1\" class=\"dataframe\">\n  <thead>\n    <tr style=\"text-align: right;\">\n      <th></th>\n      <th>STUDENT IDENTIFIER</th>\n      <th>STDNT_AGE</th>\n      <th>STDNT_GENDER</th>\n      <th>STDNT_BACKGROUND</th>\n      <th>IN_STATE_FLAG</th>\n      <th>INTERNATIONAL_STS</th>\n      <th>STDNT_MAJOR</th>\n      <th>STDNT_TEST_ENTRANCE_COMB</th>\n      <th>FIRST_TERM</th>\n      <th>CORE_COURSE_NAME_1_F</th>\n      <th>...</th>\n      <th>FATHER_HI_EDU_DESC</th>\n      <th>MOTHER_HI_EDU_DESC</th>\n      <th>DEGREE_GROUP_CD</th>\n      <th>DEGREE_GROUP_DESC</th>\n      <th>GROSS_FIN_NEED</th>\n      <th>COST_OF_ATTEND</th>\n      <th>EST_FAM_CONTRIBUTION</th>\n      <th>UNMET_NEED</th>\n      <th>FIRST_TERM_Hr</th>\n      <th>SECOND_TERM_Hr</th>\n    </tr>\n  </thead>\n  <tbody>\n    <tr>\n      <th>0</th>\n      <td>7808615.0</td>\n      <td>18.0</td>\n      <td>F</td>\n      <td>BGD 1</td>\n      <td>Y</td>\n      <td>N</td>\n      <td>Undeclared</td>\n      <td>1150.0</td>\n      <td>200708</td>\n      <td>ANTH</td>\n      <td>...</td>\n      <td>No Information</td>\n      <td>No Information</td>\n      <td>B</td>\n      <td>Bachelors</td>\n      <td>0.0</td>\n      <td>0.0</td>\n      <td>0.0</td>\n      <td>0.0</td>\n      <td>1.000000</td>\n      <td>1.000000</td>\n    </tr>\n    <tr>\n      <th>1</th>\n      <td>7830063.0</td>\n      <td>19.0</td>\n      <td>F</td>\n      <td>BGD 1</td>\n      <td>N</td>\n      <td>N</td>\n      <td>Undeclared</td>\n      <td>1190.0</td>\n      <td>200808</td>\n      <td>ANTH</td>\n      <td>...</td>\n      <td>College/Beyond</td>\n      <td>College/Beyond</td>\n      <td>B</td>\n      <td>Bachelors</td>\n      <td>570000.0</td>\n      <td>1355760.0</td>\n      <td>785760.0</td>\n      <td>459300.0</td>\n      <td>1.000000</td>\n      <td>1.000000</td>\n    </tr>\n    <tr>\n      <th>2</th>\n      <td>7847538.0</td>\n      <td>18.0</td>\n      <td>M</td>\n      <td>BGD 1</td>\n      <td>Y</td>\n      <td>N</td>\n      <td>Mathematics</td>\n      <td>1030.0</td>\n      <td>201008</td>\n      <td>ANTH</td>\n      <td>...</td>\n      <td>High School</td>\n      <td>Other/Unknown</td>\n      <td>B</td>\n      <td>Bachelors</td>\n      <td>0.0</td>\n      <td>0.0</td>\n      <td>0.0</td>\n      <td>0.0</td>\n      <td>1.000000</td>\n      <td>1.000000</td>\n    </tr>\n    <tr>\n      <th>3</th>\n      <td>8006429.0</td>\n      <td>18.0</td>\n      <td>M</td>\n      <td>BGD 1</td>\n      <td>Y</td>\n      <td>N</td>\n      <td>Undeclared</td>\n      <td>1220.0</td>\n      <td>200708</td>\n      <td>ANTH</td>\n      <td>...</td>\n      <td>College/Beyond</td>\n      <td>College/Beyond</td>\n      <td>B</td>\n      <td>Bachelors</td>\n      <td>0.0</td>\n      <td>0.0</td>\n      <td>0.0</td>\n      <td>0.0</td>\n      <td>1.000000</td>\n      <td>1.000000</td>\n    </tr>\n    <tr>\n      <th>4</th>\n      <td>7962680.0</td>\n      <td>18.0</td>\n      <td>F</td>\n      <td>BGD 1</td>\n      <td>Y</td>\n      <td>N</td>\n      <td>Art</td>\n      <td>1190.0</td>\n      <td>200808</td>\n      <td>ANTH</td>\n      <td>...</td>\n      <td>College/Beyond</td>\n      <td>High School</td>\n      <td>B</td>\n      <td>Bachelors</td>\n      <td>835920.0</td>\n      <td>1355760.0</td>\n      <td>519840.0</td>\n      <td>278340.0</td>\n      <td>1.000000</td>\n      <td>1.000000</td>\n    </tr>\n    <tr>\n      <th>...</th>\n      <td>...</td>\n      <td>...</td>\n      <td>...</td>\n      <td>...</td>\n      <td>...</td>\n      <td>...</td>\n      <td>...</td>\n      <td>...</td>\n      <td>...</td>\n      <td>...</td>\n      <td>...</td>\n      <td>...</td>\n      <td>...</td>\n      <td>...</td>\n      <td>...</td>\n      <td>...</td>\n      <td>...</td>\n      <td>...</td>\n      <td>...</td>\n      <td>...</td>\n      <td>...</td>\n    </tr>\n    <tr>\n      <th>3395</th>\n      <td>7948112.0</td>\n      <td>18.0</td>\n      <td>F</td>\n      <td>BGD 4</td>\n      <td>N</td>\n      <td>N</td>\n      <td>Music Performance</td>\n      <td>790.0</td>\n      <td>200808</td>\n      <td>COMM</td>\n      <td>...</td>\n      <td>No Information</td>\n      <td>No Information</td>\n      <td>B</td>\n      <td>Bachelors</td>\n      <td>0.0</td>\n      <td>0.0</td>\n      <td>0.0</td>\n      <td>0.0</td>\n      <td>1.000000</td>\n      <td>0.812500</td>\n    </tr>\n    <tr>\n      <th>3396</th>\n      <td>8023055.0</td>\n      <td>18.0</td>\n      <td>F</td>\n      <td>BGD 1</td>\n      <td>Y</td>\n      <td>N</td>\n      <td>Biology</td>\n      <td>950.0</td>\n      <td>200708</td>\n      <td>POLS</td>\n      <td>...</td>\n      <td>No Information</td>\n      <td>No Information</td>\n      <td>B</td>\n      <td>Bachelors</td>\n      <td>0.0</td>\n      <td>0.0</td>\n      <td>0.0</td>\n      <td>0.0</td>\n      <td>0.692308</td>\n      <td>0.000000</td>\n    </tr>\n    <tr>\n      <th>3397</th>\n      <td>7926915.0</td>\n      <td>18.0</td>\n      <td>F</td>\n      <td>BGD 4</td>\n      <td>Y</td>\n      <td>N</td>\n      <td>Biology</td>\n      <td>1030.0</td>\n      <td>200808</td>\n      <td>ENGL</td>\n      <td>...</td>\n      <td>Other/Unknown</td>\n      <td>High School</td>\n      <td>B</td>\n      <td>Bachelors</td>\n      <td>0.0</td>\n      <td>945840.0</td>\n      <td>1288980.0</td>\n      <td>0.0</td>\n      <td>0.428571</td>\n      <td>0.000000</td>\n    </tr>\n    <tr>\n      <th>3398</th>\n      <td>7877332.0</td>\n      <td>18.0</td>\n      <td>F</td>\n      <td>BGD 3</td>\n      <td>Y</td>\n      <td>N</td>\n      <td>Joint Enrollment - Accel</td>\n      <td>990.0</td>\n      <td>201008</td>\n      <td>PSYC</td>\n      <td>...</td>\n      <td>High School</td>\n      <td>College/Beyond</td>\n      <td>B</td>\n      <td>Bachelors</td>\n      <td>0.0</td>\n      <td>269100.0</td>\n      <td>0.0</td>\n      <td>-231720.0</td>\n      <td>0.750000</td>\n      <td>0.000000</td>\n    </tr>\n    <tr>\n      <th>3399</th>\n      <td>7928405.0</td>\n      <td>18.0</td>\n      <td>M</td>\n      <td>BGD 2</td>\n      <td>Y</td>\n      <td>N</td>\n      <td>Art</td>\n      <td>870.0</td>\n      <td>201008</td>\n      <td>HIST</td>\n      <td>...</td>\n      <td>College/Beyond</td>\n      <td>College/Beyond</td>\n      <td>B</td>\n      <td>Bachelors</td>\n      <td>0.0</td>\n      <td>0.0</td>\n      <td>0.0</td>\n      <td>0.0</td>\n      <td>0.750000</td>\n      <td>0.461538</td>\n    </tr>\n  </tbody>\n</table>\n<p>3400 rows × 32 columns</p>\n</div>"
          },
          "metadata": {}
        }
      ],
      "execution_count": 7,
      "metadata": {
        "gather": {
          "logged": 1746332909109
        }
      }
    },
    {
      "cell_type": "code",
      "source": [
        "data.info()"
      ],
      "outputs": [
        {
          "output_type": "stream",
          "name": "stdout",
          "text": "<class 'pandas.core.frame.DataFrame'>\nRangeIndex: 3400 entries, 0 to 3399\nData columns (total 32 columns):\n #   Column                    Non-Null Count  Dtype  \n---  ------                    --------------  -----  \n 0   STUDENT IDENTIFIER        3400 non-null   float64\n 1   STDNT_AGE                 3400 non-null   float64\n 2   STDNT_GENDER              3400 non-null   object \n 3   STDNT_BACKGROUND          3400 non-null   object \n 4   IN_STATE_FLAG             3400 non-null   object \n 5   INTERNATIONAL_STS         3400 non-null   object \n 6   STDNT_MAJOR               3400 non-null   object \n 7   STDNT_TEST_ENTRANCE_COMB  3400 non-null   float64\n 8   FIRST_TERM                3400 non-null   object \n 9   CORE_COURSE_NAME_1_F      3400 non-null   object \n 10  CORE_COURSE_GRADE_1_F     3400 non-null   object \n 11  CORE_COURSE_NAME_2_F      3400 non-null   object \n 12  CORE_COURSE_GRADE_2_F     3400 non-null   object \n 13  SECOND_TERM               3400 non-null   object \n 14  CORE_COURSE_NAME_1_S      3400 non-null   object \n 15  CORE_COURSE_GRADE_1_S     3400 non-null   object \n 16  CORE_COURSE_NAME_2_S      3400 non-null   object \n 17  CORE_COURSE_GRADE_2_S     3400 non-null   object \n 18  HOUSING_STS               3400 non-null   object \n 19  RETURNED_2ND_YR           3400 non-null   float64\n 20  DISTANCE_FROM_HOME        3400 non-null   float64\n 21  HIGH_SCHL_GPA             3400 non-null   float64\n 22  FATHER_HI_EDU_DESC        3400 non-null   object \n 23  MOTHER_HI_EDU_DESC        3400 non-null   object \n 24  DEGREE_GROUP_CD           3400 non-null   object \n 25  DEGREE_GROUP_DESC         3400 non-null   object \n 26  GROSS_FIN_NEED            3400 non-null   float64\n 27  COST_OF_ATTEND            3400 non-null   float64\n 28  EST_FAM_CONTRIBUTION      3400 non-null   float64\n 29  UNMET_NEED                3400 non-null   float64\n 30  FIRST_TERM_Hr             3400 non-null   float64\n 31  SECOND_TERM_Hr            3400 non-null   float64\ndtypes: float64(12), object(20)\nmemory usage: 850.1+ KB\n"
        }
      ],
      "execution_count": 8,
      "metadata": {
        "gather": {
          "logged": 1746332912447
        }
      }
    },
    {
      "cell_type": "markdown",
      "source": [
        "Tách đặc trưng và nhãn"
      ],
      "metadata": {
        "nteract": {
          "transient": {
            "deleting": false
          }
        }
      }
    },
    {
      "cell_type": "code",
      "source": [
        "X=data.drop('RETURNED_2ND_YR',axis=1)\n",
        "y=data['RETURNED_2ND_YR']"
      ],
      "outputs": [],
      "execution_count": 14,
      "metadata": {
        "gather": {
          "logged": 1746333317524
        }
      }
    },
    {
      "cell_type": "markdown",
      "source": [
        "Chọn feature"
      ],
      "metadata": {
        "nteract": {
          "transient": {
            "deleting": false
          }
        }
      }
    },
    {
      "cell_type": "code",
      "source": [
        "selected_features = [\n",
        "    \"STDNT_TEST_ENTRANCE_COMB\", \n",
        "    \"UNMET_NEED\",\n",
        "    \"HIGH_SCHL_GPA\", \n",
        "    \"FIRST_TERM_Hr\", \n",
        "    \"SECOND_TERM_Hr\",\n",
        "    \"COST_OF_ATTEND\", \n",
        "    'DISTANCE_FROM_HOME',\n",
        "    \"EST_FAM_CONTRIBUTION\", \n",
        "    \"GROSS_FIN_NEED\",\n",
        "]\n",
        "X = data[selected_features]\n",
        "X"
      ],
      "outputs": [
        {
          "output_type": "execute_result",
          "execution_count": 15,
          "data": {
            "text/plain": "      STDNT_TEST_ENTRANCE_COMB  UNMET_NEED  HIGH_SCHL_GPA  FIRST_TERM_Hr  \\\n0                       1150.0         0.0           4.00       1.000000   \n1                       1190.0    459300.0           2.89       1.000000   \n2                       1030.0         0.0           3.39       1.000000   \n3                       1220.0         0.0           2.93       1.000000   \n4                       1190.0    278340.0           3.86       1.000000   \n...                        ...         ...            ...            ...   \n3395                     790.0         0.0           3.93       1.000000   \n3396                     950.0         0.0           2.69       0.692308   \n3397                    1030.0         0.0           2.76       0.428571   \n3398                     990.0   -231720.0           3.56       0.750000   \n3399                     870.0         0.0           2.63       0.750000   \n\n      SECOND_TERM_Hr  COST_OF_ATTEND  DISTANCE_FROM_HOME  \\\n0           1.000000             0.0               150.0   \n1           1.000000       1355760.0                69.0   \n2           1.000000             0.0               150.0   \n3           1.000000             0.0               150.0   \n4           1.000000       1355760.0                69.0   \n...              ...             ...                 ...   \n3395        0.812500             0.0               871.0   \n3396        0.000000             0.0                69.0   \n3397        0.000000        945840.0                90.0   \n3398        0.000000        269100.0                 0.0   \n3399        0.461538             0.0                69.0   \n\n      EST_FAM_CONTRIBUTION  GROSS_FIN_NEED  \n0                      0.0             0.0  \n1                 785760.0        570000.0  \n2                      0.0             0.0  \n3                      0.0             0.0  \n4                 519840.0        835920.0  \n...                    ...             ...  \n3395                   0.0             0.0  \n3396                   0.0             0.0  \n3397             1288980.0             0.0  \n3398                   0.0             0.0  \n3399                   0.0             0.0  \n\n[3400 rows x 9 columns]",
            "text/html": "<div>\n<style scoped>\n    .dataframe tbody tr th:only-of-type {\n        vertical-align: middle;\n    }\n\n    .dataframe tbody tr th {\n        vertical-align: top;\n    }\n\n    .dataframe thead th {\n        text-align: right;\n    }\n</style>\n<table border=\"1\" class=\"dataframe\">\n  <thead>\n    <tr style=\"text-align: right;\">\n      <th></th>\n      <th>STDNT_TEST_ENTRANCE_COMB</th>\n      <th>UNMET_NEED</th>\n      <th>HIGH_SCHL_GPA</th>\n      <th>FIRST_TERM_Hr</th>\n      <th>SECOND_TERM_Hr</th>\n      <th>COST_OF_ATTEND</th>\n      <th>DISTANCE_FROM_HOME</th>\n      <th>EST_FAM_CONTRIBUTION</th>\n      <th>GROSS_FIN_NEED</th>\n    </tr>\n  </thead>\n  <tbody>\n    <tr>\n      <th>0</th>\n      <td>1150.0</td>\n      <td>0.0</td>\n      <td>4.00</td>\n      <td>1.000000</td>\n      <td>1.000000</td>\n      <td>0.0</td>\n      <td>150.0</td>\n      <td>0.0</td>\n      <td>0.0</td>\n    </tr>\n    <tr>\n      <th>1</th>\n      <td>1190.0</td>\n      <td>459300.0</td>\n      <td>2.89</td>\n      <td>1.000000</td>\n      <td>1.000000</td>\n      <td>1355760.0</td>\n      <td>69.0</td>\n      <td>785760.0</td>\n      <td>570000.0</td>\n    </tr>\n    <tr>\n      <th>2</th>\n      <td>1030.0</td>\n      <td>0.0</td>\n      <td>3.39</td>\n      <td>1.000000</td>\n      <td>1.000000</td>\n      <td>0.0</td>\n      <td>150.0</td>\n      <td>0.0</td>\n      <td>0.0</td>\n    </tr>\n    <tr>\n      <th>3</th>\n      <td>1220.0</td>\n      <td>0.0</td>\n      <td>2.93</td>\n      <td>1.000000</td>\n      <td>1.000000</td>\n      <td>0.0</td>\n      <td>150.0</td>\n      <td>0.0</td>\n      <td>0.0</td>\n    </tr>\n    <tr>\n      <th>4</th>\n      <td>1190.0</td>\n      <td>278340.0</td>\n      <td>3.86</td>\n      <td>1.000000</td>\n      <td>1.000000</td>\n      <td>1355760.0</td>\n      <td>69.0</td>\n      <td>519840.0</td>\n      <td>835920.0</td>\n    </tr>\n    <tr>\n      <th>...</th>\n      <td>...</td>\n      <td>...</td>\n      <td>...</td>\n      <td>...</td>\n      <td>...</td>\n      <td>...</td>\n      <td>...</td>\n      <td>...</td>\n      <td>...</td>\n    </tr>\n    <tr>\n      <th>3395</th>\n      <td>790.0</td>\n      <td>0.0</td>\n      <td>3.93</td>\n      <td>1.000000</td>\n      <td>0.812500</td>\n      <td>0.0</td>\n      <td>871.0</td>\n      <td>0.0</td>\n      <td>0.0</td>\n    </tr>\n    <tr>\n      <th>3396</th>\n      <td>950.0</td>\n      <td>0.0</td>\n      <td>2.69</td>\n      <td>0.692308</td>\n      <td>0.000000</td>\n      <td>0.0</td>\n      <td>69.0</td>\n      <td>0.0</td>\n      <td>0.0</td>\n    </tr>\n    <tr>\n      <th>3397</th>\n      <td>1030.0</td>\n      <td>0.0</td>\n      <td>2.76</td>\n      <td>0.428571</td>\n      <td>0.000000</td>\n      <td>945840.0</td>\n      <td>90.0</td>\n      <td>1288980.0</td>\n      <td>0.0</td>\n    </tr>\n    <tr>\n      <th>3398</th>\n      <td>990.0</td>\n      <td>-231720.0</td>\n      <td>3.56</td>\n      <td>0.750000</td>\n      <td>0.000000</td>\n      <td>269100.0</td>\n      <td>0.0</td>\n      <td>0.0</td>\n      <td>0.0</td>\n    </tr>\n    <tr>\n      <th>3399</th>\n      <td>870.0</td>\n      <td>0.0</td>\n      <td>2.63</td>\n      <td>0.750000</td>\n      <td>0.461538</td>\n      <td>0.0</td>\n      <td>69.0</td>\n      <td>0.0</td>\n      <td>0.0</td>\n    </tr>\n  </tbody>\n</table>\n<p>3400 rows × 9 columns</p>\n</div>"
          },
          "metadata": {}
        }
      ],
      "execution_count": 15,
      "metadata": {
        "gather": {
          "logged": 1746333319466
        }
      }
    },
    {
      "cell_type": "code",
      "source": [
        "from sklearn.preprocessing import MinMaxScaler\n",
        "scaler=MinMaxScaler()\n",
        "final_df=scaler.fit_transform(X)"
      ],
      "outputs": [],
      "execution_count": 11,
      "metadata": {
        "gather": {
          "logged": 1746267986145
        }
      }
    },
    {
      "cell_type": "markdown",
      "source": [
        "Encode dữ liệu"
      ],
      "metadata": {
        "nteract": {
          "transient": {
            "deleting": false
          }
        }
      }
    },
    {
      "cell_type": "code",
      "source": [
        "label_encoders = {}\n",
        "for col in X.select_dtypes(include=[\"object\"]).columns:\n",
        "    le = LabelEncoder()\n",
        "    X[col] = le.fit_transform(X[col])\n",
        "    label_encoders[col] = le"
      ],
      "outputs": [],
      "execution_count": 12,
      "metadata": {
        "gather": {
          "logged": 1746333257097
        }
      }
    },
    {
      "cell_type": "code",
      "source": [
        "X.columns"
      ],
      "outputs": [
        {
          "output_type": "execute_result",
          "execution_count": 23,
          "data": {
            "text/plain": "Index(['STDNT_TEST_ENTRANCE_COMB', 'UNMET_NEED', 'HIGH_SCHL_GPA',\n       'FIRST_TERM_Hr', 'SECOND_TERM_Hr', 'COST_OF_ATTEND',\n       'DISTANCE_FROM_HOME', 'EST_FAM_CONTRIBUTION', 'GROSS_FIN_NEED'],\n      dtype='object')"
          },
          "metadata": {}
        }
      ],
      "execution_count": 23,
      "metadata": {
        "gather": {
          "logged": 1746333809330
        }
      }
    },
    {
      "cell_type": "markdown",
      "source": [
        "Chia train/test và train model"
      ],
      "metadata": {
        "nteract": {
          "transient": {
            "deleting": false
          }
        }
      }
    },
    {
      "cell_type": "code",
      "source": [
        "X_train, X_test, y_train, y_test = train_test_split(X, y, test_size=0.2, random_state=42)\n",
        "\n",
        "models = {\n",
        "    \"Random Forest\": RandomForestClassifier(),\n",
        "    \"Logistic Regression\": LogisticRegression(max_iter=1000),\n",
        "    \"KNN\": KNeighborsClassifier()\n",
        "}\n",
        "\n",
        "results = {}\n",
        "\n",
        "for name, model in models.items():\n",
        "    model.fit(X_train, y_train)\n",
        "    preds = model.predict(X_test)\n",
        "    acc = accuracy_score(y_test, preds)\n",
        "    results[name] = {\n",
        "        \"model\": model,\n",
        "        \"accuracy\": acc,\n",
        "        \"y_pred\": preds\n",
        "    }\n",
        "\n",
        "# In ra kết quả\n",
        "for name in results:\n",
        "    print(f\"{name}: Accuracy = {results[name]['accuracy']:.4f}\")"
      ],
      "outputs": [
        {
          "output_type": "stream",
          "name": "stdout",
          "text": "Random Forest: Accuracy = 0.8074\nLogistic Regression: Accuracy = 0.8265\nKNN: Accuracy = 0.7662\n"
        }
      ],
      "execution_count": 16,
      "metadata": {
        "gather": {
          "logged": 1746333322788
        }
      }
    },
    {
      "cell_type": "markdown",
      "source": [
        "So sánh độ chính xác giữa các model"
      ],
      "metadata": {
        "nteract": {
          "transient": {
            "deleting": false
          }
        }
      }
    },
    {
      "cell_type": "code",
      "source": [
        "names = list(results.keys())\n",
        "accuracies = [results[name][\"accuracy\"] for name in names]\n",
        "\n",
        "plt.bar(names, accuracies, color='skyblue')\n",
        "plt.ylabel(\"Accuracy\")\n",
        "plt.title(\"So sánh độ chính xác giữa các model\")\n",
        "plt.ylim(0, 1)\n",
        "plt.show()"
      ],
      "outputs": [
        {
          "output_type": "display_data",
          "data": {
            "text/plain": "<Figure size 640x480 with 1 Axes>",
            "image/png": "[encoded data removed]"
          },
          "metadata": {}
        }
      ],
      "execution_count": 17,
      "metadata": {
        "gather": {
          "logged": 1746333495290
        }
      }
    },
    {
      "cell_type": "markdown",
      "source": [
        "Ma trận nhầm lẫn cho model tốt nhất"
      ],
      "metadata": {
        "nteract": {
          "transient": {
            "deleting": false
          }
        }
      }
    },
    {
      "cell_type": "code",
      "source": [
        "# Lấy model có accuracy cao nhất\n",
        "best_model_name = max(results, key=lambda k: results[k][\"accuracy\"])\n",
        "best_preds = results[best_model_name][\"y_pred\"]\n",
        "\n",
        "cm = confusion_matrix(y_test, best_preds)\n",
        "disp = ConfusionMatrixDisplay(confusion_matrix=cm)\n",
        "disp.plot()\n",
        "plt.title(f\"Ma trận nhầm lẫn - {best_model_name}\")\n",
        "plt.show()"
      ],
      "outputs": [
        {
          "output_type": "display_data",
          "data": {
            "text/plain": "<Figure size 640x480 with 2 Axes>",
            "image/png": "[encoded data removed]"
          },
          "metadata": {}
        }
      ],
      "execution_count": 18,
      "metadata": {
        "gather": {
          "logged": 1746333532475
        }
      }
    },
    {
      "cell_type": "markdown",
      "source": [
        "Lưu model tốt nhất"
      ],
      "metadata": {
        "nteract": {
          "transient": {
            "deleting": false
          }
        }
      }
    },
    {
      "cell_type": "code",
      "source": [
        "import joblib\n",
        "joblib.dump(results[best_model_name][\"model\"], \"model.pkl\")\n",
        "joblib.dump(label_encoders, \"label_encoders.pkl\")"
      ],
      "outputs": [
        {
          "output_type": "execute_result",
          "execution_count": 21,
          "data": {
            "text/plain": "['label_encoders.pkl']"
          },
          "metadata": {}
        }
      ],
      "execution_count": 21,
      "metadata": {
        "gather": {
          "logged": 1746333598113
        }
      }
    }
  ],
  "metadata": {
    "kernelspec": {
      "name": "python310-sdkv2",
      "language": "python",
      "display_name": "Python 3.10 - SDK v2"
    },
    "language_info": {
      "name": "python",
      "version": "3.10.16",
      "mimetype": "text/x-python",
      "codemirror_mode": {
        "name": "ipython",
        "version": 3
      },
      "pygments_lexer": "ipython3",
      "nbconvert_exporter": "python",
      "file_extension": ".py"
    },
    "microsoft": {
      "ms_spell_check": {
        "ms_spell_check_language": "en"
      },
      "host": {
        "AzureML": {
          "notebookHasBeenCompleted": true
        }
      }
    },
    "nteract": {
      "version": "nteract-front-end@1.0.0"
    },
    "kernel_info": {
      "name": "python310-sdkv2"
    }
  },
  "nbformat": 4,
  "nbformat_minor": 2
}